{
  "nbformat": 4,
  "nbformat_minor": 0,
  "metadata": {
    "colab": {
      "provenance": [],
      "gpuType": "T4"
    },
    "kernelspec": {
      "name": "python3",
      "display_name": "Python 3"
    },
    "language_info": {
      "name": "python"
    },
    "accelerator": "GPU"
  },
  "cells": [
    {
      "cell_type": "code",
      "execution_count": null,
      "metadata": {
        "id": "HwpiX4p8FUiD"
      },
      "outputs": [],
      "source": [
        "!pip install Flask\n",
        "\n",
        "from collections import defaultdict\n",
        "from flask import Flask, request, jsonify, Response\n",
        "import pandas as pd\n",
        "import numpy as np\n",
        "import pickle\n",
        "import json\n",
        "import os"
      ]
    },
    {
      "cell_type": "code",
      "source": [
        "from google.colab import drive\n",
        "drive.mount('/content/drive')"
      ],
      "metadata": {
        "id": "xVGsyXKPQxED",
        "colab": {
          "base_uri": "https://localhost:8080/"
        },
        "outputId": "8e8b686d-b95a-422e-efe8-11caf1ca8a73"
      },
      "execution_count": null,
      "outputs": [
        {
          "output_type": "stream",
          "name": "stdout",
          "text": [
            "Mounted at /content/drive\n"
          ]
        }
      ]
    },
    {
      "cell_type": "code",
      "source": [
        "import locale\n",
        "locale.getpreferredencoding = lambda: \"UTF-8\"\n",
        "\n",
        "!pip install pyngrok\n",
        "!ngrok authtoken 2Xiq3njrFD1bBTy6pCGqHjSxUaU_6V8fJioQysEkv6jmc7q9N\n",
        "from pyngrok import ngrok\n",
        "!pip install flask-ngrok\n",
        "from flask_ngrok import run_with_ngrok"
      ],
      "metadata": {
        "id": "Z0nGLExPFh4T"
      },
      "execution_count": null,
      "outputs": []
    },
    {
      "cell_type": "code",
      "source": [
        "import warnings\n",
        "warnings.filterwarnings('ignore')\n",
        "import numpy as np\n",
        "import pandas as pd\n",
        "import matplotlib.pyplot as plt\n",
        "import matplotlib.gridspec as gridspec\n",
        "import seaborn as sns\n",
        "import nltk\n",
        "nltk.download('stopwords')\n",
        "nltk.download('punkt')\n",
        "import re\n"
      ],
      "metadata": {
        "id": "tFIQo4lfF3OW"
      },
      "execution_count": null,
      "outputs": []
    },
    {
      "cell_type": "code",
      "source": [
        "from tensorflow.keras.preprocessing.text import Tokenizer\n",
        "from tensorflow.keras.preprocessing.sequence import pad_sequences\n",
        "from tensorflow.keras.models import Sequential\n",
        "from tensorflow.keras.layers import Dense, Embedding, LSTM, Conv1D, MaxPool1D\n",
        "from sklearn.model_selection import train_test_split\n",
        "from sklearn.metrics import classification_report, accuracy_score\n"
      ],
      "metadata": {
        "id": "ymO37gw7F4rc"
      },
      "execution_count": null,
      "outputs": []
    },
    {
      "cell_type": "code",
      "source": [
        "\n",
        "app = Flask(__name__)\n",
        "run_with_ngrok(app)\n"
      ],
      "metadata": {
        "id": "egZgdeZQF6F9"
      },
      "execution_count": null,
      "outputs": []
    },
    {
      "cell_type": "code",
      "source": [
        "!pip install transformers\n",
        "import pickle\n",
        "from scipy.special import softmax\n",
        "def preprocess(msg):\n",
        "  X = []\n",
        "  stop_words = set(nltk.corpus.stopwords.words(\"english\"))\n",
        "  tokenizer = nltk.tokenize.RegexpTokenizer(r'\\w+')\n",
        "  tmp = []\n",
        "  sentences = nltk.sent_tokenize(msg)\n",
        "  for sent in sentences:\n",
        "      sent = sent.lower()\n",
        "      tokens = tokenizer.tokenize(sent)\n",
        "      filtered_words = [w.strip() for w in tokens if w not in stop_words and len(w) > 1]\n",
        "      tmp.extend(filtered_words)\n",
        "  X.append(tmp)\n",
        "\n",
        "  with open('/content/drive/MyDrive/Ml Pickle/tokenizer.pkl', 'rb') as tokenizer_file:\n",
        "    tokenizer = pickle.load(tokenizer_file)\n",
        "  X = tokenizer.texts_to_sequences(X)\n",
        "\n",
        "  maxlen = 700\n",
        "  X = pad_sequences(X, maxlen=maxlen)\n",
        "  return X\n",
        "\n",
        "def sent_result(msg):\n",
        "  senti_model = \"/content/drive/MyDrive/Ml Pickle/sentiment_model.pkl\"\n",
        "  senti_token = \"/content/drive/MyDrive/Ml Pickle/sentiment_tokenizer.pkl\"\n",
        "\n",
        "  with open(senti_model, 'rb') as model_file:\n",
        "    loaded_model = pickle.load(model_file)\n",
        "  with open(senti_token, 'rb') as model_file:\n",
        "    tokenizer = pickle.load(model_file)\n",
        "\n",
        "  encoded_text = tokenizer(msg, return_tensors = 'pt')\n",
        "  output = loaded_model(**encoded_text)\n",
        "  scores = output[0][0].detach().numpy()\n",
        "  scores = softmax(scores)\n",
        "  val = 0\n",
        "  acc = 0\n",
        "  for i in range(3):\n",
        "    if scores[i] > acc:\n",
        "      acc = scores[i]\n",
        "      val = i\n",
        "  acc *= 100\n",
        "  return [val, acc]\n",
        "\n",
        "def initiate(msg):\n",
        "  model_file_path = \"/content/drive/MyDrive/Ml Pickle/model_pickle.pkl\"\n",
        "  with open(model_file_path, 'rb') as model_file:\n",
        "    loaded_model = pickle.load(model_file)\n",
        "  result = loaded_model.predict(preprocess(msg))\n",
        "  fin = float(result)\n",
        "\n",
        "  temp = sent_result(msg)\n",
        "  ans = [fin, temp]\n",
        "  return ans;"
      ],
      "metadata": {
        "id": "qkKipW5eF9cA"
      },
      "execution_count": null,
      "outputs": []
    },
    {
      "cell_type": "code",
      "source": [
        "@app.route('/upload', methods=['POST'])\n",
        "def start():\n",
        "  msg = request.json['sentence']\n",
        "  result = initiate(msg)\n",
        "\n",
        "  return jsonify(result)"
      ],
      "metadata": {
        "id": "z1jv-vLoFjrh"
      },
      "execution_count": null,
      "outputs": []
    },
    {
      "cell_type": "code",
      "source": [
        "if __name__ == '__main__':\n",
        "    app.run()"
      ],
      "metadata": {
        "id": "eBwt9sAtF_8_"
      },
      "execution_count": null,
      "outputs": []
    }
  ]
}